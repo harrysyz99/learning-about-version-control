{
 "cells": [
  {
   "cell_type": "markdown",
   "id": "40fc7e19-6eb0-4ffe-bc72-33b60b4c5580",
   "metadata": {},
   "source": [
    "# Answer for Question 8"
   ]
  },
  {
   "cell_type": "code",
   "execution_count": 1,
   "id": "cecfcb74-3a13-4685-b046-83c05c6e3f42",
   "metadata": {},
   "outputs": [
    {
     "data": {
      "text/plain": [
       "2"
      ]
     },
     "execution_count": 1,
     "metadata": {},
     "output_type": "execute_result"
    }
   ],
   "source": [
    "x = 1*2\n",
    "x"
   ]
  }
 ],
 "metadata": {
  "kernelspec": {
   "display_name": "Python 3 (ipykernel)",
   "language": "python",
   "name": "python3"
  },
  "language_info": {
   "codemirror_mode": {
    "name": "ipython",
    "version": 3
   },
   "file_extension": ".py",
   "mimetype": "text/x-python",
   "name": "python",
   "nbconvert_exporter": "python",
   "pygments_lexer": "ipython3",
   "version": "3.9.5"
  }
 },
 "nbformat": 4,
 "nbformat_minor": 5
}
